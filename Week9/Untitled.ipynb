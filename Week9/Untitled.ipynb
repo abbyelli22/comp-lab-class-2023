{
 "cells": [
  {
   "cell_type": "code",
   "execution_count": null,
   "metadata": {},
   "outputs": [],
   "source": [
    "Week 9 "
   ]
  },
  {
   "cell_type": "code",
   "execution_count": null,
   "metadata": {},
   "outputs": [],
   "source": [
    "import matplotlib.pyplot as plt\n",
    "import numpy as np\n",
    "import math\n",
    "import glob\n",
    "import os\n",
    "import pandas as pd\n",
    "import shutil"
   ]
  },
  {
   "cell_type": "code",
   "execution_count": null,
   "metadata": {},
   "outputs": [],
   "source": [
    "#u = MDAnalysis.Universe(\"equil.lammpsdata\", \"trj_unwrapped.dcd\", format=\"LAMMPS\")"
   ]
  },
  {
   "cell_type": "code",
   "execution_count": null,
   "metadata": {},
   "outputs": [],
   "source": [
    "#You will analyze these simulations in two ways, computing the mean-squared displacement (MSD) and the radial distribution functions (RDF).\n",
    "\n",
    "One way to do these calculations in python would be using using the python library MDAnalysis\n",
    "\n",
    "The production jobs output unwrapped dcd files, meaning that both RDF and MSD can be computed directly from those files. They can be loaded in VMD or MDAnalysis using the .lammpstrj files in the equil dir.\n",
    "\n",
    "As an example, to load a trajectory in MDAnalysis, one would do: u = MDAnalysis.Universe(\"equil.lammpsdata\", \"trj_unwrapped.dcd\", format=\"LAMMPS\")\n",
    "\n",
    "Using the production data, compute the radial distribution function between type 1 and type 1 particles, type 2 and type 2, and type 1 and type 2. Make 3 separate figures showing g_11(r), g_22(r), g_12(r) - each one at all the temperatures.\n",
    "\n",
    "Using the production data, compute the mean-squared displacement for type 1 particles at each tempearture. Make a figure showing the MSD at each temperature. This figure should be on a log-log scale. If you do this, you will see there is a small plateau and then diffusive behavior at longer time (linear slope).\n",
    "\n",
    "Find the time where MSD = 1 at each temperature. This is the time where the particle would diffuse 1 diameter on average. Make a plot of this time vs \n",
    ". This should also be a log-log plot.\n",
    "\n",
    "Save your figures in the Figures folder."
   ]
  },
  {
   "cell_type": "code",
   "execution_count": null,
   "metadata": {},
   "outputs": [],
   "source": []
  }
 ],
 "metadata": {
  "kernelspec": {
   "display_name": "Python 3",
   "language": "python",
   "name": "python3"
  },
  "language_info": {
   "codemirror_mode": {
    "name": "ipython",
    "version": 3
   },
   "file_extension": ".py",
   "mimetype": "text/x-python",
   "name": "python",
   "nbconvert_exporter": "python",
   "pygments_lexer": "ipython3",
   "version": "3.8.6"
  }
 },
 "nbformat": 4,
 "nbformat_minor": 4
}

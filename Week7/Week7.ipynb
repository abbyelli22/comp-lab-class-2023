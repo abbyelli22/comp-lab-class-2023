{
 "cells": [
  {
   "cell_type": "markdown",
   "metadata": {},
   "source": [
    "### Week 7"
   ]
  },
  {
   "cell_type": "code",
   "execution_count": 2,
   "metadata": {},
   "outputs": [],
   "source": [
    "import matplotlib.pyplot as plt\n",
    "import numpy as np\n",
    "import mdtraj as md\n",
    "from matplotlib.colors import LogNorm \n",
    "from matplotlib import cm\n",
    "from mdtraj import Trajectory"
   ]
  },
  {
   "cell_type": "code",
   "execution_count": 3,
   "metadata": {},
   "outputs": [
    {
     "name": "stdout",
     "output_type": "stream",
     "text": [
      "<class 'mdtraj.core.trajectory.Trajectory'>\n",
      "<class 'mdtraj.core.trajectory.Trajectory'>\n",
      "<class 'mdtraj.core.trajectory.Trajectory'>\n",
      "<class 'numpy.ndarray'>\n"
     ]
    }
   ],
   "source": [
    "#Using mdtraj, in a jupyter notebook, \n",
    "#align your alphafold predictions to the crystal structure and make a bar plot showing the RMSD of each predicted structure to the crystal structure based on alpha-carbons and based on the full backbone and side-chains. \n",
    "#Does alphafold get everything right or just the backbone structure?\n",
    "\n",
    "pdb = md.load(\"1LYS_1.pdb\")\n",
    "alphafold = md.load(\"1LYS/unrelaxed_model_1_pred_0.pdb\")\n",
    "\n",
    "\n",
    "alphafold_alpha_carbons = alphafold.atom_slice(alphafold.topology.select(\"name CA\"))\n",
    "alphafold_backbone = alphafold.atom_slice(alphafold.topology.select(\"backbone\"))\n",
    "alphafold_side_chains = alphafold.atom_slice(alphafold.topology.select(\"sidechain\"))\n",
    "#backbone_side_chains = alphafold.atom_slice(alphafold.topology.select(\"backbone and sidechain\"))\n",
    "print(type(alphafold_alpha_carbons))\n",
    "\n",
    "pdb_alpha_carbons = pdb.atom_slice(pdb.topology.select(\"name CA\"))\n",
    "pdb_backbone = pdb.atom_slice(pdb.topology.select(\"backbone\"))\n",
    "pdb_side_chains = pdb.atom_slice(pdb.topology.select(\"sidechain\"))\n",
    "\n",
    "print(type(pdb_alpha_carbons))\n",
    "                    \n",
    "#aligned = md.Trajectory.superpose(reference = pdb, self = alphafold)\n",
    "#rmsd = md.rmsd(target = alphafold, reference = pdb, precentered = True)\n",
    "\n",
    "\n",
    "#alphafold aligned to pdb all\n",
    "alphafold_aligned = alphafold.superpose(pdb, atom_indices = [0,998])\n",
    "\n",
    "#alphafold alpha carbons aligned to pdb alpha carbons\n",
    "aligned_to_alpha_ca_rmsd = md.rmsd(alphafold_alpha_carbons, reference=pdb_alpha_carbons)\n",
    "\n",
    "#alphafold backbone aligned to pdb backbone\n",
    "aligned_to_backbone_rmsd = md.rmsd(alphafold_backbone, reference=pdb_backbone)\n",
    "\n",
    "#alphafold backbone aligned to sidechain\n",
    "#aligned_to_sidechain_rmsd = md.rmsd(alphafold_side_chains, reference = pdb_side_chains)\n",
    "\n",
    "print(type(alphafold_aligned))\n",
    "print(type(aligned_to_backbone_rmsd))"
   ]
  },
  {
   "cell_type": "code",
   "execution_count": 19,
   "metadata": {},
   "outputs": [
    {
     "name": "stdout",
     "output_type": "stream",
     "text": [
      "[0.05451853]\n",
      "[0.]\n"
     ]
    },
    {
     "data": {
      "image/png": "[encoded data removed]",
      "text/plain": [
       "<Figure size 576x432 with 1 Axes>"
      ]
     },
     "metadata": {
      "needs_background": "light"
     },
     "output_type": "display_data"
    }
   ],
   "source": [
    "### ATTEMPT 2\n",
    "\n",
    "#load files\n",
    "pdb = md.load(\"1LYS_1.pdb\")\n",
    "#pdb = md.load(\"1LYS_2.pdb\")\n",
    "#pdb = md.load(\"1LYS.pdb\")\n",
    "alphafold = md.load(\"1LYS/unrelaxed_model_1_pred_0.pdb\")\n",
    "\n",
    "#align \n",
    "#alphafold.superpose(pdb, pdb)\n",
    "#alphafold.superpose(pdb)\n",
    "#rmsd_pdb = md.rmsd(pdb,pdb)\n",
    "#print(rmsd_pdb)\n",
    "\n",
    "# Calculate RMSD for alpha-carbons (backbone)\n",
    "rmsd_backbone = md.rmsd(alphafold, pdb, atom_indices=alphafold.top.select_atom_indices(\"alpha\"))\n",
    "print(rmsd_backbone)\n",
    "\n",
    "# Calculate RMSD for the full backbone and side-chains\n",
    "all_atom_indices = list(range(len(alphafold.xyz)))\n",
    "rmsd_full = md.rmsd(alphafold, pdb, atom_indices=all_atom_indices)\n",
    "print(rmsd_full)\n",
    "\n",
    "plt.figure(figsize=(8, 6))\n",
    "plt.bar([\"Backbone\"], rmsd_backbone)\n",
    "plt.bar([\"AlphaCarbon\"], rmsd_full)\n",
    "#plt.bar(['Alpha Carbons', 'Backbone + Side-Chains'], [rmsd_backbone, rmsd_full])\n",
    "plt.xlabel('Structure')\n",
    "plt.ylabel('Mean RMSD (Å)')\n",
    "plt.title('RMSD of AlphaFold Predictions Aligned to PDB ')\n",
    "plt.show()\n",
    "\n",
    "\n"
   ]
  },
  {
   "cell_type": "code",
   "execution_count": 6,
   "metadata": {},
   "outputs": [
    {
     "data": {
      "text/plain": [
       "<mdtraj.Trajectory with 1 frames, 1960 atoms, 129 residues, without unitcells at 0x14e970e2ddc0>"
      ]
     },
     "execution_count": 6,
     "metadata": {},
     "output_type": "execute_result"
    }
   ],
   "source": [
    "pdb = md.load(\"1LYS_1.pdb\")\n",
    "alphafold = md.load(\"1LYS/relaxed_model_1_pred_0.pdb\")\n",
    "#alphafold = md.load(\"1LYS/ranked_1.pdb\")\n",
    "\n",
    "#align \n",
    "alphafold.superpose(pdb, atom_indices = [0,998])"
   ]
  },
  {
   "cell_type": "code",
   "execution_count": null,
   "metadata": {},
   "outputs": [],
   "source": [
    "# From your alphafold greene output, make a picture of your protein colored by PLDDT score (stored in B-factor column), and put it in your figures folder. Which residues should we be confident in?"
   ]
  },
  {
   "cell_type": "code",
   "execution_count": null,
   "metadata": {},
   "outputs": [],
   "source": [
    "#See figures folder for rendering\n",
    "#Can be confident about helices"
   ]
  }
 ],
 "metadata": {
  "kernelspec": {
   "display_name": "Python 3",
   "language": "python",
   "name": "python3"
  },
  "language_info": {
   "codemirror_mode": {
    "name": "ipython",
    "version": 3
   },
   "file_extension": ".py",
   "mimetype": "text/x-python",
   "name": "python",
   "nbconvert_exporter": "python",
   "pygments_lexer": "ipython3",
   "version": "3.8.6"
  }
 },
 "nbformat": 4,
 "nbformat_minor": 4
}

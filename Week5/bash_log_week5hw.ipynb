{
 "cells": [
  {
   "cell_type": "code",
   "execution_count": null,
   "metadata": {},
   "outputs": [],
   "source": [
    "#Run MD simulation"
   ]
  },
  {
   "cell_type": "code",
   "execution_count": null,
   "metadata": {},
   "outputs": [],
   "source": [
    "#For each temp - 300, 363, 440:\n",
    "\n",
    "gmx_mpi grompp -f adp_T300.mdp -c adp.gro -t md_adp.cpt -p adp.top -o adp_T300.tpr\n",
    "#Outputs: mdout.mdp, .tpr\n",
    "\n",
    "gmx_mpi mdrun -s adp.tpr -v -deffnm md_T363\n",
    "#Outputs: .cpt, .edr, .gro, .log, .trr"
   ]
  },
  {
   "cell_type": "code",
   "execution_count": null,
   "metadata": {},
   "outputs": [],
   "source": [
    "#For each temp - 300, 363, 440:\n",
    "mpirun -np 3 gmx_mpi mdrun -s adp -multidir T300/ T363/ T440/ -deffnm adp_exchange3temps -replex 50\n",
    "#-s is input .tpr file names!\n",
    "\n",
    "#Outputs:\n",
    "#.log, .cpt, .edr, .gro, .trr"
   ]
  },
  {
   "cell_type": "code",
   "execution_count": null,
   "metadata": {},
   "outputs": [],
   "source": [
    "#For each temp - 300, 363, 440:\n",
    "\n",
    "gmx_mpi energy -f md_adp.edr << EOF\n",
    "8 \n",
    "\n",
    "EOF\n",
    "\n",
    "#outputs: \"energy.xvg\" "
   ]
  },
  {
   "cell_type": "code",
   "execution_count": null,
   "metadata": {},
   "outputs": [],
   "source": [
    "#Demux notes\n",
    "\n",
    "demux.pl adp_exchange3temps.log #in T300 file"
   ]
  }
 ],
 "metadata": {
  "kernelspec": {
   "display_name": "Bash",
   "language": "bash",
   "name": "bash"
  },
  "language_info": {
   "codemirror_mode": "shell",
   "file_extension": ".sh",
   "mimetype": "text/x-sh",
   "name": "bash"
  }
 },
 "nbformat": 4,
 "nbformat_minor": 4
}

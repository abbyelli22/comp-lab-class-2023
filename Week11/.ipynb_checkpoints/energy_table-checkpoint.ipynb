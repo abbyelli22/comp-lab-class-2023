{
 "cells": [
  {
   "cell_type": "code",
   "execution_count": null,
   "metadata": {},
   "outputs": [],
   "source": [
    "#Energy Table"
   ]
  },
  {
   "cell_type": "code",
   "execution_count": 12,
   "metadata": {},
   "outputs": [],
   "source": [
    "import rdkit\n",
    "from rdkit import Chem\n",
    "from rdkit.Chem import AllChem\n",
    "\n",
    "from rdkit.Chem import Draw\n",
    "from rdkit.Chem.Draw import IPythonConsole\n",
    "\n",
    "rdkit.__version__\n",
    "\n",
    "import pandas as pd\n",
    "from rdkit.Chem import PandasTools\n",
    "\n",
    "from psikit import Psikit"
   ]
  },
  {
   "cell_type": "code",
   "execution_count": 4,
   "metadata": {},
   "outputs": [],
   "source": [
    "#Follow this blog post to create a dataframe from your smiles.csv, adding the ROMol column and n_atoms column as described in the blog post."
   ]
  },
  {
   "cell_type": "code",
   "execution_count": 13,
   "metadata": {},
   "outputs": [
    {
     "data": {
      "text/html": [
       "<div>\n",
       "<style scoped>\n",
       "    .dataframe tbody tr th:only-of-type {\n",
       "        vertical-align: middle;\n",
       "    }\n",
       "\n",
       "    .dataframe tbody tr th {\n",
       "        vertical-align: top;\n",
       "    }\n",
       "\n",
       "    .dataframe thead th {\n",
       "        text-align: right;\n",
       "    }\n",
       "</style>\n",
       "<table border=\"1\" class=\"dataframe\">\n",
       "  <thead>\n",
       "    <tr style=\"text-align: right;\">\n",
       "      <th></th>\n",
       "      <th>smiles</th>\n",
       "    </tr>\n",
       "  </thead>\n",
       "  <tbody>\n",
       "    <tr>\n",
       "      <th>0</th>\n",
       "      <td>C=C</td>\n",
       "    </tr>\n",
       "    <tr>\n",
       "      <th>1</th>\n",
       "      <td>C=O</td>\n",
       "    </tr>\n",
       "    <tr>\n",
       "      <th>2</th>\n",
       "      <td>C#N</td>\n",
       "    </tr>\n",
       "    <tr>\n",
       "      <th>3</th>\n",
       "      <td>CCO</td>\n",
       "    </tr>\n",
       "    <tr>\n",
       "      <th>4</th>\n",
       "      <td>CCC(=O)O</td>\n",
       "    </tr>\n",
       "    <tr>\n",
       "      <th>5</th>\n",
       "      <td>CN=C=O</td>\n",
       "    </tr>\n",
       "    <tr>\n",
       "      <th>6</th>\n",
       "      <td>C1=CCC=CC1</td>\n",
       "    </tr>\n",
       "    <tr>\n",
       "      <th>7</th>\n",
       "      <td>C1=CC=CC=C1</td>\n",
       "    </tr>\n",
       "    <tr>\n",
       "      <th>8</th>\n",
       "      <td>C1=C(C)C=CC=C1</td>\n",
       "    </tr>\n",
       "    <tr>\n",
       "      <th>9</th>\n",
       "      <td>C1CCC2CCCCC2C1</td>\n",
       "    </tr>\n",
       "  </tbody>\n",
       "</table>\n",
       "</div>"
      ],
      "text/plain": [
       "           smiles\n",
       "0             C=C\n",
       "1             C=O\n",
       "2             C#N\n",
       "3             CCO\n",
       "4        CCC(=O)O\n",
       "5          CN=C=O\n",
       "6      C1=CCC=CC1\n",
       "7     C1=CC=CC=C1\n",
       "8  C1=C(C)C=CC=C1\n",
       "9  C1CCC2CCCCC2C1"
      ]
     },
     "execution_count": 13,
     "metadata": {},
     "output_type": "execute_result"
    }
   ],
   "source": [
    "smiles_csv = pd.read_csv(\"smiles.csv\")\n",
    "smiles_csv"
   ]
  },
  {
   "cell_type": "code",
   "execution_count": 21,
   "metadata": {},
   "outputs": [
    {
     "name": "stdout",
     "output_type": "stream",
     "text": [
      "<class 'rdkit.Chem.rdchem.Mol'>\n"
     ]
    }
   ],
   "source": [
    "PandasTools.AddMoleculeColumnToFrame(smiles_csv, smilesCol='smiles')\n",
    "smiles_csv.head(1)\n",
    "print(type(smiles_csv.ROMol[0]))"
   ]
  },
  {
   "cell_type": "code",
   "execution_count": 22,
   "metadata": {},
   "outputs": [
    {
     "data": {
      "text/html": [
       "<div>\n",
       "<style scoped>\n",
       "    .dataframe tbody tr th:only-of-type {\n",
       "        vertical-align: middle;\n",
       "    }\n",
       "\n",
       "    .dataframe tbody tr th {\n",
       "        vertical-align: top;\n",
       "    }\n",
       "\n",
       "    .dataframe thead th {\n",
       "        text-align: right;\n",
       "    }\n",
       "</style>\n",
       "<table border=\"1\" class=\"dataframe\">\n",
       "  <thead>\n",
       "    <tr style=\"text-align: right;\">\n",
       "      <th></th>\n",
       "      <th>smiles</th>\n",
       "      <th>ROMol</th>\n",
       "      <th>n_Atoms</th>\n",
       "    </tr>\n",
       "  </thead>\n",
       "  <tbody>\n",
       "    <tr>\n",
       "      <th>0</th>\n",
       "      <td>C=C</td>\n",
       "      <td>&lt;rdkit.Chem.rdchem.Mol object at 0x1523a0c82970&gt;</td>\n",
       "      <td>2</td>\n",
       "    </tr>\n",
       "  </tbody>\n",
       "</table>\n",
       "</div>"
      ],
      "text/plain": [
       "  smiles                                             ROMol  n_Atoms\n",
       "0    C=C  <rdkit.Chem.rdchem.Mol object at 0x1523a0c82970>        2"
      ]
     },
     "execution_count": 22,
     "metadata": {},
     "output_type": "execute_result"
    }
   ],
   "source": [
    "#\n",
    "smiles_csv[\"n_Atoms\"] = smiles_csv['ROMol'].map(lambda x: x.GetNumAtoms())\n",
    "smiles_csv.head(1)"
   ]
  },
  {
   "cell_type": "code",
   "execution_count": 23,
   "metadata": {},
   "outputs": [
    {
     "name": "stdout",
     "output_type": "stream",
     "text": [
      "Optimizer: Optimization complete!\n",
      "CPU times: user 5.08 s, sys: 152 ms, total: 5.23 s\n",
      "Wall time: 1.37 s\n",
      "CPU times: user 1.4 s, sys: 30.1 ms, total: 1.43 s\n",
      "Wall time: 359 ms\n",
      "Optimizer: Optimization complete!\n",
      "CPU times: user 4.51 s, sys: 117 ms, total: 4.63 s\n",
      "Wall time: 1.16 s\n",
      "CPU times: user 1.27 s, sys: 41.8 ms, total: 1.32 s\n",
      "Wall time: 331 ms\n",
      "Optimizer: Optimization complete!\n",
      "CPU times: user 4.23 s, sys: 134 ms, total: 4.36 s\n",
      "Wall time: 1.1 s\n",
      "CPU times: user 1.24 s, sys: 30.9 ms, total: 1.28 s\n",
      "Wall time: 320 ms\n",
      "Optimizer: Optimization complete!\n",
      "CPU times: user 13.5 s, sys: 368 ms, total: 13.9 s\n",
      "Wall time: 4.01 s\n",
      "CPU times: user 2.13 s, sys: 60.4 ms, total: 2.19 s\n",
      "Wall time: 568 ms\n",
      "Optimizer: Optimization complete!\n",
      "CPU times: user 44.9 s, sys: 893 ms, total: 45.7 s\n",
      "Wall time: 11.6 s\n",
      "CPU times: user 2.77 s, sys: 62.7 ms, total: 2.83 s\n",
      "Wall time: 762 ms\n",
      "Optimizer: Optimization complete!\n",
      "CPU times: user 18.2 s, sys: 383 ms, total: 18.6 s\n",
      "Wall time: 4.69 s\n",
      "CPU times: user 2.03 s, sys: 59.5 ms, total: 2.09 s\n",
      "Wall time: 529 ms\n",
      "Optimizer: Optimization complete!\n",
      "CPU times: user 35.8 s, sys: 2.02 s, total: 37.8 s\n",
      "Wall time: 12.3 s\n",
      "CPU times: user 3.04 s, sys: 111 ms, total: 3.15 s\n",
      "Wall time: 1.05 s\n",
      "Optimizer: Optimization complete!\n",
      "CPU times: user 14.1 s, sys: 626 ms, total: 14.7 s\n",
      "Wall time: 3.99 s\n",
      "CPU times: user 3.09 s, sys: 107 ms, total: 3.2 s\n",
      "Wall time: 822 ms\n",
      "Optimizer: Optimization complete!\n",
      "CPU times: user 27.7 s, sys: 1.29 s, total: 29 s\n",
      "Wall time: 7.42 s\n",
      "CPU times: user 4.18 s, sys: 237 ms, total: 4.42 s\n",
      "Wall time: 1.23 s\n",
      "Optimizer: Optimization complete!\n",
      "CPU times: user 3min 15s, sys: 13.5 s, total: 3min 29s\n",
      "Wall time: 57.8 s\n",
      "CPU times: user 14.4 s, sys: 1.04 s, total: 15.4 s\n",
      "Wall time: 4.32 s\n"
     ]
    }
   ],
   "source": [
    "# Assuming 'df' contains the molecule structures in the 'Molecules' column\n",
    "\n",
    "# Initialize Psi4 via Psikit\n",
    "pk = Psikit()\n",
    "\n",
    "# Function to compute optimized energy for each molecule\n",
    "def compute_optimized_energy(smiles):\n",
    "    pk.read_from_smiles(smiles)  # Load the molecule\n",
    "    start_time = %time pk.optimize()  # Optimize the geometry and measure time\n",
    "    energy = %time pk.energy()  # Get the optimized energy and measure time\n",
    "    return energy\n",
    "\n",
    "# Apply the function to each molecule and store the energies in a new column 'Optimized_Energy'\n",
    "smiles_csv['Optimized_Energy'] = smiles_csv['smiles'].apply(compute_optimized_energy)\n",
    "\n",
    "smiles_csv.to_csv('smiles_energy_df.csv')  \n"
   ]
  },
  {
   "cell_type": "code",
   "execution_count": 24,
   "metadata": {},
   "outputs": [
    {
     "name": "stdout",
     "output_type": "stream",
     "text": [
      "           smiles                                             ROMol  n_Atoms  \\\n",
      "0             C=C  <rdkit.Chem.rdchem.Mol object at 0x1523a0c82970>        2   \n",
      "1             C=O  <rdkit.Chem.rdchem.Mol object at 0x1523a0c82890>        2   \n",
      "2             C#N  <rdkit.Chem.rdchem.Mol object at 0x1523a0c82900>        2   \n",
      "3             CCO  <rdkit.Chem.rdchem.Mol object at 0x1523a0c826d0>        3   \n",
      "4        CCC(=O)O  <rdkit.Chem.rdchem.Mol object at 0x1523a0c82270>        5   \n",
      "5          CN=C=O  <rdkit.Chem.rdchem.Mol object at 0x1523a0c82200>        4   \n",
      "6      C1=CCC=CC1  <rdkit.Chem.rdchem.Mol object at 0x1523a0c82040>        6   \n",
      "7     C1=CC=CC=C1  <rdkit.Chem.rdchem.Mol object at 0x1523a0bf0970>        6   \n",
      "8  C1=C(C)C=CC=C1  <rdkit.Chem.rdchem.Mol object at 0x1523a0bf0ba0>        7   \n",
      "9  C1CCC2CCCCC2C1  <rdkit.Chem.rdchem.Mol object at 0x1523a0bf0cf0>       10   \n",
      "\n",
      "   Optimized_Energy  \n",
      "0        -78.038769  \n",
      "1       -113.869536  \n",
      "2        -92.876942  \n",
      "3       -154.089919  \n",
      "4       -266.858985  \n",
      "5       -206.795593  \n",
      "6       -231.846761  \n",
      "7       -230.713524  \n",
      "8       -269.753552  \n",
      "9       -389.200656  \n"
     ]
    }
   ],
   "source": [
    "print(smiles_csv)"
   ]
  },
  {
   "cell_type": "code",
   "execution_count": null,
   "metadata": {},
   "outputs": [],
   "source": [
    "%time\n",
    "pk=Psikit()\n",
    "\n",
    "pk.read_from_smiles(\"C=C\")\n",
    "opt_energy = pk.optimize()\n",
    "print(opt_energy)"
   ]
  }
 ],
 "metadata": {
  "kernelspec": {
   "display_name": "lab_env_2023",
   "language": "python",
   "name": "lab_env_2023"
  },
  "language_info": {
   "codemirror_mode": {
    "name": "ipython",
    "version": 3
   },
   "file_extension": ".py",
   "mimetype": "text/x-python",
   "name": "python",
   "nbconvert_exporter": "python",
   "pygments_lexer": "ipython3",
   "version": "3.9.12"
  }
 },
 "nbformat": 4,
 "nbformat_minor": 4
}

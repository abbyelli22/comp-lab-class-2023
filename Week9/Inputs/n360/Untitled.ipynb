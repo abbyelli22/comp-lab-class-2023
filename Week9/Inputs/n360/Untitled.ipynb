{
 "cells": [
  {
   "cell_type": "code",
   "execution_count": 1,
   "metadata": {},
   "outputs": [],
   "source": [
    "temp_list_files=\"../Inputs/n360/kalj_n360_T*\"\n",
    "temps_list=\"1.5 1.0 0.9 0.8 0.7 0.65 0.6 0.55 0.5 0.475\""
   ]
  },
  {
   "cell_type": "code",
   "execution_count": 13,
   "metadata": {},
   "outputs": [
    {
     "name": "stdout",
     "output_type": "stream",
     "text": [
      "../Inputs/n360/kalj_n360_T*[@]\n"
     ]
    }
   ],
   "source": [
    "temp_list_files=../Inputs/n360/kalj_n360_T*\n",
    "\n",
    "for file in \"$temp_list_files[@]\";do\n",
    "    echo $file\n",
    "done"
   ]
  },
  {
   "cell_type": "code",
   "execution_count": 10,
   "metadata": {},
   "outputs": [
    {
     "name": "stdout",
     "output_type": "stream",
     "text": [
      "\n"
     ]
    }
   ],
   "source": [
    "for temp_file in \"$temp_list_files[@]\"; do\n",
    "    temp=\"${BASH_REMATCH[1]}\"\n",
    "    echo $temp\n",
    "done"
   ]
  },
  {
   "cell_type": "code",
   "execution_count": 21,
   "metadata": {},
   "outputs": [
    {
     "name": "stdout",
     "output_type": "stream",
     "text": [
      "bash: syntax error near unexpected token `('\n",
      "/home/axe1/.local/bin:/home/axe1/bin:[1]\n",
      "bash: syntax error near unexpected token `done'\n"
     ]
    },
    {
     "ename": "",
     "evalue": "2",
     "output_type": "error",
     "traceback": []
    }
   ],
   "source": [
    "folder=\"..Inputs/n360\"\n",
    "\n",
    "\n",
    "if [[$file =~ T([0-9.]+)]];then\n",
    "    temp=\"$BASH_REMATCH[1]\"\n",
    "    echo $temp\n",
    "done"
   ]
  },
  {
   "cell_type": "code",
   "execution_count": null,
   "metadata": {},
   "outputs": [],
   "source": []
  }
 ],
 "metadata": {
  "kernelspec": {
   "display_name": "Bash",
   "language": "bash",
   "name": "bash"
  },
  "language_info": {
   "codemirror_mode": "shell",
   "file_extension": ".sh",
   "mimetype": "text/x-sh",
   "name": "bash"
  }
 },
 "nbformat": 4,
 "nbformat_minor": 4
}

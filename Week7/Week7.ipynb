{
 "cells": [
  {
   "cell_type": "markdown",
   "metadata": {},
   "source": [
    "### Week 7"
   ]
  },
  {
   "cell_type": "code",
   "execution_count": 3,
   "metadata": {},
   "outputs": [],
   "source": [
    "import matplotlib.pyplot as plt\n",
    "import numpy as np\n",
    "import mdtraj as md\n",
    "from matplotlib.colors import LogNorm \n",
    "from matplotlib import cm\n",
    "from mdtraj import Trajectory"
   ]
  },
  {
   "cell_type": "code",
   "execution_count": 38,
   "metadata": {},
   "outputs": [
    {
     "name": "stdout",
     "output_type": "stream",
     "text": [
      "<class 'mdtraj.core.trajectory.Trajectory'>\n",
      "<class 'mdtraj.core.trajectory.Trajectory'>\n",
      "<class 'mdtraj.core.trajectory.Trajectory'>\n",
      "<class 'numpy.ndarray'>\n"
     ]
    }
   ],
   "source": [
    "#Using mdtraj, in a jupyter notebook, \n",
    "#align your alphafold predictions to the crystal structure and make a bar plot showing the RMSD of each predicted structure to the crystal structure based on alpha-carbons and based on the full backbone and side-chains. \n",
    "#Does alphafold get everything right or just the backbone structure?\n",
    "\n",
    "pdb = md.load(\"1LYS_1.pdb\")\n",
    "alphafold = md.load(\"1LYS/unrelaxed_model_1_pred_0.pdb\")\n",
    "\n",
    "\n",
    "alphafold_alpha_carbons = alphafold.atom_slice(alphafold.topology.select(\"name CA\"))\n",
    "alphafold_backbone = alphafold.atom_slice(alphafold.topology.select(\"backbone\"))\n",
    "alphafold_side_chains = alphafold.atom_slice(alphafold.topology.select(\"sidechain\"))\n",
    "#backbone_side_chains = alphafold.atom_slice(alphafold.topology.select(\"backbone and sidechain\"))\n",
    "print(type(alphafold_alpha_carbons))\n",
    "\n",
    "pdb_alpha_carbons = pdb.atom_slice(pdb.topology.select(\"name CA\"))\n",
    "pdb_backbone = pdb.atom_slice(pdb.topology.select(\"backbone\"))\n",
    "pdb_side_chains = pdb.atom_slice(pdb.topology.select(\"sidechain\"))\n",
    "\n",
    "print(type(pdb_alpha_carbons))\n",
    "                    \n",
    "#aligned = md.Trajectory.superpose(reference = pdb, self = alphafold)\n",
    "#rmsd = md.rmsd(target = alphafold, reference = pdb, precentered = True)\n",
    "\n",
    "\n",
    "#alphafold aligned to pdb all\n",
    "alphafold_aligned = alphafold.superpose(pdb, atom_indices = [0,998])\n",
    "\n",
    "#alphafold alpha carbons aligned to pdb alpha carbons\n",
    "aligned_to_alpha_ca_rmsd = md.rmsd(alphafold_alpha_carbons, reference=pdb_alpha_carbons)\n",
    "\n",
    "#alphafold backbone aligned to pdb backbone\n",
    "aligned_to_backbone_rmsd = md.rmsd(alphafold_backbone, reference=pdb_backbone)\n",
    "\n",
    "#alphafold backbone aligned to sidechain\n",
    "#aligned_to_sidechain_rmsd = md.rmsd(alphafold_side_chains, reference = pdb_side_chains)\n",
    "\n",
    "print(type(alphafold_aligned))\n",
    "print(type(aligned_to_backbone_rmsd))"
   ]
  },
  {
   "cell_type": "code",
   "execution_count": 2,
   "metadata": {},
   "outputs": [
    {
     "ename": "NameError",
     "evalue": "name 'aligned_to_alpha_ca_rmsd' is not defined",
     "output_type": "error",
     "traceback": [
      "\u001b[0;31m---------------------------------------------------------------------------\u001b[0m",
      "\u001b[0;31mNameError\u001b[0m                                 Traceback (most recent call last)",
      "\u001b[0;32m<ipython-input-2-204e109f05e4>\u001b[0m in \u001b[0;36m<module>\u001b[0;34m\u001b[0m\n\u001b[1;32m      7\u001b[0m \u001b[0;31m#ax.scatter(x, y, c =\"blue\")\u001b[0m\u001b[0;34m\u001b[0m\u001b[0;34m\u001b[0m\u001b[0;34m\u001b[0m\u001b[0m\n\u001b[1;32m      8\u001b[0m \u001b[0;31m#ax.plot(alphafold_aligned, c = \"blue\", label = \"Alphafold aligned to PDB\")\u001b[0m\u001b[0;34m\u001b[0m\u001b[0;34m\u001b[0m\u001b[0;34m\u001b[0m\u001b[0m\n\u001b[0;32m----> 9\u001b[0;31m \u001b[0mplt\u001b[0m\u001b[0;34m.\u001b[0m\u001b[0mplot\u001b[0m\u001b[0;34m(\u001b[0m\u001b[0maligned_to_alpha_ca_rmsd\u001b[0m\u001b[0;34m,\u001b[0m \u001b[0mc\u001b[0m \u001b[0;34m=\u001b[0m \u001b[0;34m\"green\"\u001b[0m\u001b[0;34m,\u001b[0m \u001b[0mlabel\u001b[0m \u001b[0;34m=\u001b[0m \u001b[0;34m\"Alpha carbons aligned\"\u001b[0m\u001b[0;34m)\u001b[0m\u001b[0;34m\u001b[0m\u001b[0;34m\u001b[0m\u001b[0m\n\u001b[0m\u001b[1;32m     10\u001b[0m \u001b[0mplt\u001b[0m\u001b[0;34m.\u001b[0m\u001b[0mplot\u001b[0m\u001b[0;34m(\u001b[0m\u001b[0maligned_to_backbone_rmsd\u001b[0m\u001b[0;34m,\u001b[0m \u001b[0mc\u001b[0m \u001b[0;34m=\u001b[0m \u001b[0;34m\"red\"\u001b[0m\u001b[0;34m,\u001b[0m \u001b[0mlabel\u001b[0m \u001b[0;34m=\u001b[0m \u001b[0;34m\"Backbone aligned\"\u001b[0m\u001b[0;34m)\u001b[0m\u001b[0;34m\u001b[0m\u001b[0;34m\u001b[0m\u001b[0m\n\u001b[1;32m     11\u001b[0m \u001b[0;31m#ax.plot(aligned_to_sidechain_rmsd, c = \"yellow\", label = \"Side chains\")\u001b[0m\u001b[0;34m\u001b[0m\u001b[0;34m\u001b[0m\u001b[0;34m\u001b[0m\u001b[0m\n",
      "\u001b[0;31mNameError\u001b[0m: name 'aligned_to_alpha_ca_rmsd' is not defined"
     ]
    },
    {
     "data": {
      "image/png": "[encoded data removed]",
      "text/plain": [
       "<Figure size 360x216 with 1 Axes>"
      ]
     },
     "metadata": {
      "needs_background": "light"
     },
     "output_type": "display_data"
    }
   ],
   "source": [
    "\n",
    "\n",
    "#bar plot\n",
    "\n",
    "fig = plt.figure(figsize=(5,3))\n",
    "ax = fig.add_subplot(111)\n",
    "fig.subplots_adjust(bottom=0.2)\n",
    "\n",
    "#ax.scatter(x, y, c =\"blue\")\n",
    "#ax.plot(alphafold_aligned, c = \"blue\", label = \"Alphafold aligned to PDB\")\n",
    "plt.plot(aligned_to_alpha_ca_rmsd, c = \"green\", label = \"Alpha carbons aligned\")\n",
    "plt.plot(aligned_to_backbone_rmsd, c = \"red\", label = \"Backbone aligned\")\n",
    "#ax.plot(aligned_to_sidechain_rmsd, c = \"yellow\", label = \"Side chains\")\n",
    "\n",
    "    \n",
    "#axA.set_xlabel(\"\")\n",
    "ax.set_ylabel(r\"RMSD\")\n",
    "plt.title(\"RMSD of Alphafold Prediction Aligned to PDB\")\n",
    "plt.legend()\n",
    "plt.show()"
   ]
  },
  {
   "cell_type": "code",
   "execution_count": null,
   "metadata": {},
   "outputs": [],
   "source": [
    "# From your alphafold greene output, make a picture of your protein colored by PLDDT score (stored in B-factor column), and put it in your figures folder. Which residues should we be confident in?"
   ]
  },
  {
   "cell_type": "code",
   "execution_count": null,
   "metadata": {},
   "outputs": [],
   "source": [
    "#See figures folder for rendering\n",
    "#Can be confident about helices"
   ]
  }
 ],
 "metadata": {
  "kernelspec": {
   "display_name": "Python 3",
   "language": "python",
   "name": "python3"
  },
  "language_info": {
   "codemirror_mode": {
    "name": "ipython",
    "version": 3
   },
   "file_extension": ".py",
   "mimetype": "text/x-python",
   "name": "python",
   "nbconvert_exporter": "python",
   "pygments_lexer": "ipython3",
   "version": "3.8.6"
  }
 },
 "nbformat": 4,
 "nbformat_minor": 4
}
